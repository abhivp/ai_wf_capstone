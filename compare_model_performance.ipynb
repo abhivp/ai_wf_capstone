{
 "cells": [
  {
   "cell_type": "code",
   "execution_count": 1,
   "metadata": {},
   "outputs": [],
   "source": [
    "import os\n",
    "import time\n",
    "import numpy as np\n",
    "\n",
    "from model import model_train\n",
    "from model import model_load\n",
    "from model import model_predict\n",
    "\n",
    "from sklearn.model_selection import train_test_split, GridSearchCV\n",
    "from sklearn.pipeline import Pipeline\n",
    "from sklearn.ensemble import RandomForestRegressor, GradientBoostingRegressor\n",
    "from sklearn.tree import DecisionTreeRegressor\n",
    "from sklearn.preprocessing import StandardScaler\n",
    "\n",
    "from sklearn.metrics import mean_absolute_error, mean_squared_error, r2_score\n",
    "\n",
    "from cslib import fetch_ts, engineer_features"
   ]
  },
  {
   "cell_type": "code",
   "execution_count": 2,
   "metadata": {},
   "outputs": [
    {
     "output_type": "stream",
     "name": "stdout",
     "text": [
      "... loading ts data from files\n"
     ]
    }
   ],
   "source": [
    "base_dir = os.getcwd()\n",
    "DATA_DIR = os.path.join(base_dir , \"data\" , \"cs-train\")\n",
    "\n",
    "ts_all = fetch_ts(DATA_DIR,clean=False)"
   ]
  },
  {
   "cell_type": "code",
   "execution_count": 3,
   "metadata": {},
   "outputs": [],
   "source": [
    "X,y,dates = engineer_features(ts_all['all'])\n",
    "        \n",
    "## Perform a train-test split\n",
    "X_train, X_test, y_train, y_test = train_test_split(X, y, test_size=0.25, shuffle=True, random_state=42)"
   ]
  },
  {
   "cell_type": "code",
   "execution_count": 6,
   "metadata": {},
   "outputs": [
    {
     "output_type": "stream",
     "name": "stdout",
     "text": [
      "train time =  00:00:06\nmae for RandomForestRegressor = 11335\nmse for RandomForestRegressor = 257143480\nr2_score for RandomForestRegressor = 0.961\nbest params for RandomForestRegressor = {'rf__criterion': 'mse', 'rf__n_estimators': 50}\n"
     ]
    }
   ],
   "source": [
    "# Evaluate RandomForestRegressor\n",
    "\n",
    "eval_model = 'RandomForestRegressor'\n",
    "\n",
    "param_grid_rf = {\n",
    "    'rf__criterion': ['mse','mae'],\n",
    "    'rf__n_estimators': [10,15,20,25,50,100]\n",
    "    }\n",
    "\n",
    "time_start = time.time()\n",
    "pipe_rf = Pipeline(steps=[('scaler', StandardScaler()), ('rf', RandomForestRegressor())])\n",
    "\n",
    "grid = GridSearchCV(pipe_rf, param_grid=param_grid_rf, cv=5, iid=False, n_jobs=-1)\n",
    "grid.fit(X_train, y_train)\n",
    "y_pred = grid.predict(X_test)\n",
    "\n",
    "rf_mae =  mean_absolute_error(y_test, y_pred)\n",
    "rf_mse =  mean_squared_error(y_test, y_pred)\n",
    "rf_r2_score = r2_score(y_test, y_pred)\n",
    "\n",
    "print(\"train time = \", time.strftime('%H:%M:%S', time.gmtime(time.time()-time_start)))\n",
    "print(\"mae for {} = {:.0f}\".format(eval_model, rf_mae))\n",
    "print(\"mse for {} = {:.0f}\".format(eval_model, rf_mse))\n",
    "print(\"r2_score for {} = {:.3f}\".format(eval_model, rf_r2_score))\n",
    "print(\"best params for {} = {}\".format(eval_model, grid.best_params_))"
   ]
  },
  {
   "cell_type": "code",
   "execution_count": 7,
   "metadata": {},
   "outputs": [
    {
     "output_type": "stream",
     "name": "stdout",
     "text": [
      "train time =  00:00:05\nmae for GradientBoostingRegressor = 16151\nmse for GradientBoostingRegressor = 450761320\nr2_score for GradientBoostingRegressor = 0.931\nbest params for GradientBoostingRegressor = {'gb__criterion': 'mse', 'gb__n_estimators': 100}\n"
     ]
    }
   ],
   "source": [
    "# Evaluate GradientBoostingRegressor\n",
    "\n",
    "eval_model = 'GradientBoostingRegressor'\n",
    "\n",
    "param_grid_gb = {\n",
    "    'gb__criterion': ['mse','mae'],\n",
    "    'gb__n_estimators': [10,15,20,25,50,100]\n",
    "    }\n",
    "\n",
    "time_start = time.time()\n",
    "pipe_gb = Pipeline(steps=[('scaler', StandardScaler()), ('gb', GradientBoostingRegressor())])\n",
    "\n",
    "grid = GridSearchCV(pipe_gb, param_grid=param_grid_gb, cv=5, iid=False, n_jobs=-1)\n",
    "grid.fit(X_train, y_train)\n",
    "y_pred = grid.predict(X_test)\n",
    "\n",
    "gb_mae =  mean_absolute_error(y_test, y_pred)\n",
    "gb_mse =  mean_squared_error(y_test, y_pred)\n",
    "gb_r2_score = r2_score(y_test, y_pred)\n",
    "\n",
    "print(\"train time = \", time.strftime('%H:%M:%S', time.gmtime(time.time()-time_start)))\n",
    "print(\"mae for {} = {:.0f}\".format(eval_model, gb_mae))\n",
    "print(\"mse for {} = {:.0f}\".format(eval_model, gb_mse))\n",
    "print(\"r2_score for {} = {:.3f}\".format(eval_model, gb_r2_score))\n",
    "print(\"best params for {} = {}\".format(eval_model, grid.best_params_))"
   ]
  },
  {
   "cell_type": "code",
   "execution_count": 8,
   "metadata": {},
   "outputs": [
    {
     "output_type": "stream",
     "name": "stdout",
     "text": [
      "train time =  00:00:01\nmae for DecisionTreeRegressor = 12375\nmse for DecisionTreeRegressor = 439838827\nr2_score for DecisionTreeRegressor = 0.933\nbest params for DecisionTreeRegressor = {'dt__criterion': 'mse', 'dt__max_depth': 10, 'dt__min_samples_leaf': 2}\n"
     ]
    }
   ],
   "source": [
    "# Evaluate DecisionTreeRegressor\n",
    "\n",
    "eval_model = 'DecisionTreeRegressor'\n",
    "\n",
    "param_grid_dt = {\n",
    "    'dt__criterion': ['mse','mae'],\n",
    "    'dt__max_depth': [5,10,20,50],\n",
    "    'dt__min_samples_leaf': [1,2,3,4,5]\n",
    "    }\n",
    "\n",
    "time_start = time.time()\n",
    "pipe_ts = Pipeline(steps=[('scaler', StandardScaler()), ('dt', DecisionTreeRegressor())])\n",
    "\n",
    "grid = GridSearchCV(pipe_ts, param_grid=param_grid_dt, cv=5, iid=False, n_jobs=-1)\n",
    "grid.fit(X_train, y_train)\n",
    "y_pred = grid.predict(X_test)\n",
    "\n",
    "dt_mae =  mean_absolute_error(y_test, y_pred)\n",
    "dt_mse =  mean_squared_error(y_test, y_pred)\n",
    "dt_r2_score = r2_score(y_test, y_pred)\n",
    "\n",
    "print(\"train time = \", time.strftime('%H:%M:%S', time.gmtime(time.time()-time_start)))\n",
    "print(\"mae for {} = {:.0f}\".format(eval_model, dt_mae))\n",
    "print(\"mse for {} = {:.0f}\".format(eval_model, dt_mse))\n",
    "print(\"r2_score for {} = {:.3f}\".format(eval_model, dt_r2_score))\n",
    "print(\"best params for {} = {}\".format(eval_model, grid.best_params_))"
   ]
  },
  {
   "cell_type": "code",
   "execution_count": null,
   "metadata": {},
   "outputs": [],
   "source": []
  },
  {
   "cell_type": "code",
   "execution_count": null,
   "metadata": {},
   "outputs": [],
   "source": []
  },
  {
   "cell_type": "code",
   "execution_count": null,
   "metadata": {},
   "outputs": [],
   "source": []
  }
 ],
 "metadata": {
  "kernelspec": {
   "name": "python3",
   "display_name": "Python 3.7.3 64-bit ('venv')",
   "metadata": {
    "interpreter": {
     "hash": "b1c47afa708112d41b03fd38dddbae20e7af48464b2562133ee15c6990a3d593"
    }
   }
  },
  "language_info": {
   "codemirror_mode": {
    "name": "ipython",
    "version": 3
   },
   "file_extension": ".py",
   "mimetype": "text/x-python",
   "name": "python",
   "nbconvert_exporter": "python",
   "pygments_lexer": "ipython3",
   "version": "3.7.3-final"
  }
 },
 "nbformat": 4,
 "nbformat_minor": 2
}